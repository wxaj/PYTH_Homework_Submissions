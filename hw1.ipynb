{
  "cells": [
    {
      "cell_type": "markdown",
      "metadata": {
        "id": "SYGKIpVjoKQK"
      },
      "source": [
        "<a href=\"https://colab.research.google.com/github/mottaquikarim/PYTH2/blob/master/src/PSETS/nb/conditionals_inclass_psets.ipynb\" target=\"_parent\"><img src=\"https://colab.research.google.com/assets/colab-badge.svg\" alt=\"Open In Colab\"/></a>"
      ]
    },
    {
      "cell_type": "markdown",
      "metadata": {
        "id": "sMYnzQY2oKQL"
      },
      "source": [
        "#  CONDITIONALS\n",
        "\n",
        "## WEATHER\n",
        "\n",
        "### P1.PY\n",
        "\n",
        "\n"
      ]
    },
    {
      "cell_type": "code",
      "execution_count": null,
      "metadata": {
        "id": "nCuYryDLoKQL"
      },
      "outputs": [],
      "source": [
        "\"\"\"\n",
        "Weather I - Do you need boots?\n",
        "\"\"\"\n",
        "\n",
        "# Use the values of the vars defined below to ouput the correct contextual answer to the questions below. (Note: The variables themselves ARE the questions.)\n",
        "\n",
        "# Example:\n",
        "## am_i_hungry = False\n",
        "## am_i_tired = True\n",
        "## do_i_need_to_stay_awake = False\n",
        "\n",
        "## should_i_drink_coffee_now = am_i_tired and do_i_need_to_stay_awake\n",
        "\n",
        "## ^^ This ^^ evaluates to False. If you're tired and don't need to stay awake, you don't need to drink coffee!\n",
        "\n",
        "is_it_raining = True\n",
        "is_it_snowing = False\n",
        "\n",
        "#when it's raining\n",
        "if is_it_raining and not is_it_snowing:\n",
        "  do_i_need_snow_boots = False\n",
        "  can_i_skip_snow_boots = True\n",
        "  do_i_need_rain_boots = True\n",
        "  can_i_skip_rain_boots = False\n",
        "\n",
        "#when it's snowing\n",
        "elif is_it_raining and not is_it_snowing:\n",
        "  do_i_need_snow_boots = True\n",
        "  can_i_skip_snow_boots = False\n",
        "  do_i_need_rain_boots = False\n",
        "  can_i_skip_rain_boots = True\n",
        "\n",
        "#print results\n",
        "print(f'Do I need snow boots? {do_i_need_snow_boots}')\n",
        "print(f'Can I skip snow boots? {can_i_skip_snow_boots}')\n",
        "print(f'Do I need rain boots? {do_i_need_rain_boots}')\n",
        "print(f'Can I skip rain boots? {can_i_skip_rain_boots}')"
      ]
    },
    {
      "cell_type": "markdown",
      "metadata": {
        "id": "TbOZfASroKQL"
      },
      "source": [
        "\n",
        "\n",
        "### P2.PY\n",
        "\n",
        "\n"
      ]
    },
    {
      "cell_type": "code",
      "execution_count": null,
      "metadata": {
        "id": "ZO4XrzeyoKQM"
      },
      "outputs": [],
      "source": [
        "\"\"\"\n",
        "Weather II - Precipitation\n",
        "\"\"\"\n",
        "\n",
        "# Repeat the same process as p1, using this new set of variables.\n",
        "\n",
        "sunny = True\n",
        "raining = True\n",
        "snowing = False\n",
        "#when it's sunny\n",
        "if sunny and not raining and not snowing:\n",
        "  is_it_sunny = True\n",
        "else:\n",
        "  is_it_sunny = False\n",
        "\n",
        "#when there's percepitation\n",
        "if raining or snowing:\n",
        "  is_there_precipitation = True\n",
        "else:\n",
        "  is_there_precipitation = False\n",
        "\n",
        "#when it's speeting\n",
        "if raining and snowing:\n",
        "  is_it_sleeting = True\n",
        "else:\n",
        "  is_it_sleeting = False\n",
        "\n",
        "#when there's a rainbow\n",
        "if sunny and raining and not snowing:\n",
        "  is_there_a_rainbow = True\n",
        "else:\n",
        "  is_there_a_rainbow = False\n",
        "\n",
        "#print\n",
        "print(f'Is it sunny? {is_it_sunny}')\n",
        "print(f'Is there precipitation? {is_there_precipitation}')\n",
        "print(f'Is it sleeting? {is_it_sleeting}')\n",
        "print(f'Is there a rainbow? {is_there_a_rainbow}')\n"
      ]
    },
    {
      "cell_type": "markdown",
      "metadata": {
        "id": "SZTzUWJloKQM"
      },
      "source": [
        "\n",
        "\n",
        "### P3.PY\n",
        "\n",
        "\n"
      ]
    },
    {
      "cell_type": "code",
      "execution_count": 1,
      "metadata": {
        "id": "OCbUA-FeoKQM",
        "colab": {
          "base_uri": "https://localhost:8080/"
        },
        "outputId": "d2af1c9e-05d9-4cce-9c15-a486517588cc"
      },
      "outputs": [
        {
          "output_type": "stream",
          "name": "stdout",
          "text": [
            "Is it summer weather? True\n",
            "Is rain coming? True\n",
            "Is it muggy? True\n",
            "Do I need a coat? False\n"
          ]
        }
      ],
      "source": [
        "\"\"\"\n",
        "Weather III - Describe Conditions\n",
        "\"\"\"\n",
        "\n",
        "# Repeat the same process as p1, using this new set of variables.\n",
        "\n",
        "is_it_warm = True\n",
        "is_it_humid = True\n",
        "is_it_cold = False\n",
        "is_it_icy = False\n",
        "is_it_foggy = False\n",
        "is_it_windy = False\n",
        "is_it_overcast = True\n",
        "\n",
        "if is_it_warm: #whether if it's summer weather is only dependent on if it's warm\n",
        "  is_it_summer_weather = True\n",
        "else:\n",
        "  is_it_summer_weather = False\n",
        "\n",
        "if is_it_overcast:#whether rain is coming is only dependent on if it's overcast\n",
        "  is_rain_coming = True\n",
        "else:\n",
        "  is_rain_coming = False\n",
        "\n",
        "if is_it_warm and is_it_humid:#whether if it's muggy depends on whether if it's warm and humid\n",
        "  is_it_muggy = True\n",
        "else:\n",
        "  is_it_muggy = False\n",
        "\n",
        "if is_it_cold: #whether you need a coat only depends on whether if it's cold\n",
        "  do_i_need_coat = True\n",
        "else:\n",
        "  do_i_need_coat = False\n",
        "\n",
        "print(f'Is it summer weather? {is_it_summer_weather}')\n",
        "print(f'Is rain coming? {is_rain_coming}')\n",
        "print(f'Is it muggy? {is_it_muggy}')\n",
        "print(f'Do I need a coat? {do_i_need_coat}')"
      ]
    },
    {
      "cell_type": "markdown",
      "metadata": {
        "id": "9Aufrii7oKQM"
      },
      "source": [
        "\n",
        "\n",
        "## LOGIC\n",
        "\n",
        "### P1.PY\n",
        "\n",
        "\n"
      ]
    },
    {
      "cell_type": "code",
      "execution_count": null,
      "metadata": {
        "id": "ZFU-GSP8oKQN"
      },
      "outputs": [],
      "source": [
        "\"\"\"\n",
        "Calculate Grade\n",
        "\"\"\"\n",
        "\n",
        "grade = 15  # expect this to be a number\n",
        "# write a program that will print the \"letter\"\n",
        "# equivalent of the grade, for example:\n",
        "# when grade = 90 # -> expect A\n",
        "# when grade = 80 # -> expect B\n",
        "# when grade = 70 # -> expect C\n",
        "# when grade = 60 # -> expect D\n",
        "# when grade = 54 # -> expect F\n",
        "# when grade = -10 # -> expect Error\n",
        "# when grade = 10000 # -> expect Error\n",
        "# when grade = \"lol skool sucks\" # -> expect Error\n",
        "\n",
        "# expect this to be a number\n",
        "grade = 15\n",
        "\n",
        "#if 'lolschool sucks' is the value for the variable 'grade', it prints 'error'\n",
        "if grade == 'lol school sucks':\n",
        "    print('Error')\n",
        "\n",
        "#if the grade is between 90-100, then it prints A\n",
        "elif 100 >= grade >= 90:\n",
        "    print('A')\n",
        "\n",
        "#if the grade is between 80-89, then it prints B\n",
        "elif 90 > grade >= 80:\n",
        "    print('B')\n",
        "\n",
        "#if the grade is between 70-79, then it prints C\n",
        "elif 80 > grade >= 70:\n",
        "    print('C')\n",
        "\n",
        "#if the grade is between 60-69, then it prints D\n",
        "elif 70 > grade >= 60:\n",
        "    print('D')\n",
        "\n",
        "#if the grade is between 0-59, then it prints F\n",
        "elif 60 > grade >= 0:\n",
        "    print('F')\n",
        "\n",
        "#if the grade is beyond the range 0-100, it prints 'Error'\n",
        "else:\n",
        "  print('Error')\n",
        "\n",
        "\n"
      ]
    },
    {
      "cell_type": "markdown",
      "metadata": {
        "id": "-Q0_pePooKQN"
      },
      "source": [
        "\n",
        "\n",
        "### P2.PY\n",
        "\n",
        "\n"
      ]
    },
    {
      "cell_type": "code",
      "execution_count": null,
      "metadata": {
        "id": "6Eeg_yxYoKQO"
      },
      "outputs": [],
      "source": [
        "\"\"\"\n",
        "Sign of Product\n",
        "\"\"\"\n",
        "\n",
        "# Given three numbers, a, b, c, without multiplying, determine the sign of their product.\n",
        "\n",
        "# EXAMPLE: a = -5, b = 6, c = -4, print 1\n",
        "\n",
        "# EXAMPLE: a = 5, b = 6, c = -4, print -1\n",
        "\n",
        "#thinking process\n",
        "\n",
        "#one of variables is 0 = 0\n",
        "\n",
        "# a, b, c are all positive = positive\n",
        "# if we assign \"1\" to positives and \"-1\" to negatives:\n",
        "# 1 + 1 + 1 = 3, positive\n",
        "\n",
        "#two of variables is negative = positive\n",
        "# 1 - 1 - 1 = -1, positive\n",
        "\n",
        "# one of variables is negative = negative\n",
        "# 1 + 1 - 1 = 1, negative\n",
        "\n",
        "#all three variables are negative = negative\n",
        "# -1 - 1 - 1 - -3, negative\n",
        "\n",
        "#variables\n",
        "a = 0\n",
        "b = -1\n",
        "c = 1\n",
        "\n",
        "#dictionary to define the signs (this took a few tries)\n",
        "signs = dict({\n",
        "  'a' :\n",
        "    +1 if a > 0 else -1 if a < 0 else 0,\n",
        "  'b' :\n",
        "    +1 if b > 0 else -1 if b < 0 else 0,\n",
        "  'c' :\n",
        "   +1 if c > 0 else -1 if c < 0 else 0\n",
        "})\n",
        "\n",
        "\n",
        "#if any of the variables is 0, then it returns 0\n",
        "if a==0 or b==0 or c == 0:\n",
        "  print('zero')\n",
        "\n",
        "#if all three variables is positive, then it returns 'positive'\n",
        "elif sum(signs.values()) == 3:\n",
        "  print('positive')\n",
        "\n",
        "#if all one variables is negative, then it returns 'negative'\n",
        "elif sum(signs.values()) == 1:\n",
        "  print('negative')\n",
        "\n",
        "#if two variables are negative, then it returns 'positive'\n",
        "elif sum(signs.values()) == -1:\n",
        "  print('positive')\n",
        "\n",
        "#if all three variables are negative, then it returns 'negative'\n",
        "elif sum(signs.values()) == -3:\n",
        "  print('negative')\n",
        "\n"
      ]
    },
    {
      "cell_type": "markdown",
      "metadata": {
        "id": "9Ra5l89roKQO"
      },
      "source": [
        "\n",
        "\n",
        "### P3.PY\n",
        "\n",
        "\n"
      ]
    },
    {
      "cell_type": "code",
      "execution_count": null,
      "metadata": {
        "id": "1oVrS2LwoKQO"
      },
      "outputs": [],
      "source": [
        "\"\"\"\n",
        "Any Uppercase\n",
        "\"\"\"\n",
        "\n",
        "# Given a string str, determine if there are any uppercase values in it. Use only conditional statements and string methods (you may have to look some up!)\n",
        "\n",
        "str = 'Test' #defines variable 'str'\n",
        "\n",
        "result = str != str.islower() # str.islower() returns True if all characters in the string are lowercase, and False otherwise. Here, if str is NOT all lower case, it is assigned the variable 'result'\n",
        "\n",
        "if result: #if we get the variable 'result' from the boolean above, then it prints 'contains capital letters'\n",
        "  print('contains capital letters')\n",
        "\n",
        "else:\n",
        "  print('contains upper case letters')\n"
      ]
    },
    {
      "cell_type": "markdown",
      "metadata": {
        "id": "uLPOPJQloKQO"
      },
      "source": [
        "\n",
        "\n",
        "### P4.PY\n",
        "\n",
        "\n"
      ]
    },
    {
      "cell_type": "code",
      "execution_count": null,
      "metadata": {
        "id": "jpq5DqqyoKQO"
      },
      "outputs": [],
      "source": [
        "\"\"\"\n",
        "Empty Strings\n",
        "\"\"\"\n",
        "\n",
        "# Given any empty string, of the form:\n",
        "\n",
        "# ''\n",
        "# ' '\n",
        "# '  '\n",
        "# any other num of spaces...\n",
        "\n",
        "# determine if the str is empty or not (print True or False). Hint: You'll need to look up how to remove trailing spaces from a string.\n",
        "\n",
        "str = ''\n",
        "if str == str.strip():\n",
        "  print('The string is empty.')\n",
        "else:\n",
        "  print('The string is actually not empty.')\n"
      ]
    },
    {
      "cell_type": "markdown",
      "metadata": {
        "id": "rJT_MvpqoKQP"
      },
      "source": [
        "\n",
        "\n",
        "### P5.PY\n",
        "\n",
        "\n"
      ]
    },
    {
      "cell_type": "code",
      "execution_count": null,
      "metadata": {
        "id": "A6uqooBwoKQP"
      },
      "outputs": [],
      "source": [
        "\"\"\"\n",
        "truthTableEvaluator\n",
        "\"\"\"\n",
        "\n",
        "# Given the following inputs:\n",
        "\n",
        "# P = # True or False\n",
        "# Q = # True or False\n",
        "# op = # '^' (logical AND, conjunction)\n",
        "#      # OR, 'v' (logical OR, disjunction)\n",
        "#      # OR, '->' (logical conditional, implication)\n",
        "#      # OR, '<->' (biconditional)\n",
        "# determine the correct outcome.\n",
        "\n",
        "#I got help on this and need to review this.\n",
        "\n",
        "P = True  # True or False\n",
        "Q = False  # True or False\n",
        "op = '^'  # '^' (logical AND), 'v' (logical OR), '->' (logical conditional), '<->' (biconditional)\n",
        "\n",
        "# Determine the correct outcome\n",
        "if op == '^':  # Logical AND (conjunction)\n",
        "    result = P and Q\n",
        "\n",
        "elif op == 'v':  # Logical OR (disjunction)\n",
        "    result = P or Q\n",
        "\n",
        "elif op == '->':  # Logical conditional (implication)\n",
        "    result = not P or Q\n",
        "\n",
        "elif op == '<->':  # Biconditional\n",
        "    result = P == Q\n",
        "\n",
        "print(result)\n",
        "\n",
        "# https://medium.com/i-math/intro-to-truth-tables-boolean-algebra-73b331dd9b94\n"
      ]
    },
    {
      "cell_type": "markdown",
      "metadata": {
        "id": "4VWuoTXaoKQP"
      },
      "source": [
        "\n",
        "\n",
        "## RANDOM_NUMS\n",
        "\n",
        "### P1.PY\n",
        "\n",
        "\n"
      ]
    },
    {
      "cell_type": "code",
      "execution_count": 1,
      "metadata": {
        "id": "9lIkUtnloKQP",
        "colab": {
          "base_uri": "https://localhost:8080/"
        },
        "outputId": "2d32fbeb-85d4-46a2-ed48-05c4a3ef76bc"
      },
      "outputs": [
        {
          "output_type": "stream",
          "name": "stdout",
          "text": [
            "1\n",
            "red\n"
          ]
        }
      ],
      "source": [
        "\"\"\"\n",
        "Generate Traffic Light\n",
        "\"\"\"\n",
        "\n",
        "# import python random package\n",
        "import random\n",
        "\n",
        "# generates a random number from 1 to 3 and assigns it to variable 'rdm'\n",
        "rdm = random.randint(1, 3)\n",
        "\n",
        "#prints the random number assigned to variable 'rdm'\n",
        "print(rdm)\n",
        "\n",
        "#dictionary for each number and corresponding color\n",
        "my_dict = dict({1: 'red', 2: 'green', 3: 'yellow'})\n",
        "\n",
        "# if 1, print 'red'\n",
        "# if 2, print 'green',\n",
        "# if 3, print 'yellow'\n",
        "print(my_dict[rdm])\n",
        "\n",
        "\n",
        "\n"
      ]
    },
    {
      "cell_type": "markdown",
      "metadata": {
        "id": "6Wr9q9t4oKQP"
      },
      "source": [
        "\n",
        "\n",
        "### P2.PY\n",
        "\n",
        "\n"
      ]
    },
    {
      "cell_type": "code",
      "execution_count": null,
      "metadata": {
        "id": "scrPf1aioKQP"
      },
      "outputs": [],
      "source": [
        "\"\"\"\n",
        "Generate Phone Number w/Area Code\n",
        "\"\"\"\n",
        "\n",
        "# import python random package\n",
        "\n",
        "# generate a random phone number of the form:\n",
        "# 1-718-786-2825\n",
        "# This should be a string\n",
        "# Valid Area Codes are: 646, 718, 212\n",
        "# if phone number doesn't have [646, 718, 212]\n",
        "# as area code, pick one of the above at random\n",
        "\n",
        "import random\n",
        "#imports random package\n",
        "\n",
        "digit1 = random.randint(0, 9)\n",
        "digit2 = random.randint(0, 9)\n",
        "digit3 = random.randint(0, 9)\n",
        "#generates random three digits for first portion of subscriber number\n",
        "subscriber_number_first = f'{digit1}{digit2}{digit3}'\n",
        "#assigns the random three digits as variable subscriber_number_first\n",
        "\n",
        "digit4 = random.randint(0, 9)\n",
        "digit5 = random.randint(0, 9)\n",
        "digit6 = random.randint(0, 9)\n",
        "digit7 = random.randint(0, 9)\n",
        "#generates random four digits for second portion of subscriber number\n",
        "subscriber_number_second = f'{digit4}{digit5}{digit6}{digit7}'\n",
        "#assigns the random four digits as variable subscriber_number_second\n",
        "\n",
        "valid_area_codes = list([646, 718, 212])\n",
        "area_code = random.choice(valid_area_codes)\n",
        "#randomly selects one of the valid area codes\n",
        "\n",
        "print(f'1-{area_code}-{subscriber_number_first}-{subscriber_number_second}')\n",
        "#prints the area_code, subscriber_number_first, and subscriber_number_second under desired phone number format.\n",
        "\n",
        "#Note: I initially tried to assign a random value between 0 and 999 / 0 and 9999 to generate the first and second parts of the subscriber number. But then I realized that if there were 0 values assigned to preceding digits it could lead to numbers like \"1-212-11-1\".\n",
        "\n"
      ]
    },
    {
      "cell_type": "markdown",
      "metadata": {
        "id": "brfgoQKLoKQP"
      },
      "source": [
        "\n"
      ]
    }
  ],
  "metadata": {
    "colab": {
      "provenance": []
    },
    "language_info": {
      "name": "python"
    },
    "kernelspec": {
      "name": "python3",
      "display_name": "Python 3"
    }
  },
  "nbformat": 4,
  "nbformat_minor": 0
}
