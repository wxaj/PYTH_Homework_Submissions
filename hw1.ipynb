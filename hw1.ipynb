{
  "cells": [
    {
      "cell_type": "markdown",
      "metadata": {
        "id": "aI6gkoFTf8K9"
      },
      "source": [
        "<a href=\"https://colab.research.google.com/github/mottaquikarim/PYTH2/blob/master/src/PSETS/nb/basic_data_inclass_psets.ipynb\" target=\"_parent\"><img src=\"https://colab.research.google.com/assets/colab-badge.svg\" alt=\"Open In Colab\"/></a>"
      ]
    },
    {
      "cell_type": "markdown",
      "metadata": {
        "id": "SccgTiM-f8K-"
      },
      "source": [
        "#  BASIC DATA TYPES\n",
        "\n",
        "## BASICS\n",
        "\n",
        "### P1.PY\n",
        "\n",
        "\n"
      ]
    },
    {
      "cell_type": "code",
      "execution_count": null,
      "metadata": {
        "id": "x4_ACsUdf8K-",
        "colab": {
          "base_uri": "https://localhost:8080/",
          "height": 36
        },
        "outputId": "820af5ef-eca4-4f57-8578-dbfbc09b79a6"
      },
      "outputs": [
        {
          "output_type": "execute_result",
          "data": {
            "text/plain": [
              "'\\nPlaceholders\\n'"
            ],
            "application/vnd.google.colaboratory.intrinsic+json": {
              "type": "string"
            }
          },
          "metadata": {},
          "execution_count": 1
        }
      ],
      "source": [
        "\"\"\"\n",
        "Placeholders\n",
        "\"\"\"\n",
        "\n",
        "# You're writing a program, and you don't know what your starting value for your 'initial' variable is yet. The program won't run if you leave it blank, but you don't want to forget you need it! Make a workaround.\n",
        "\n",
        "my_first_variable = None\n",
        "\n"
      ]
    },
    {
      "cell_type": "markdown",
      "metadata": {
        "id": "OiNcOId_f8K_"
      },
      "source": [
        "\n",
        "\n",
        "### P2.PY\n",
        "\n",
        "\n"
      ]
    },
    {
      "cell_type": "code",
      "execution_count": null,
      "metadata": {
        "id": "vr3TACVQf8LA"
      },
      "outputs": [],
      "source": [
        "\"\"\"\n",
        "Basic Variables\n",
        "\"\"\"\n",
        "\n",
        "# Create a variable that represents your favorite number, and add a note to remind yourself what this variable represents. Now print it out without re-typing the number.\n",
        "\n",
        "favorite_number = 10 #this variable represents my favorite number\n",
        "print(f'My favorite number is {favorite_number}!')\n",
        "\n",
        "# Create another variable that represents your favorite color, and do the same steps as above.\n",
        "\n",
        "favorite_color = 'blue' #this variable represents my favorite color\n",
        "print(f'My favorite color is {favorite_color}!')\n"
      ]
    },
    {
      "cell_type": "markdown",
      "metadata": {
        "id": "aOkuWVwNf8LA"
      },
      "source": [
        "\n",
        "\n",
        "### P3.PY\n",
        "\n",
        "\n"
      ]
    },
    {
      "cell_type": "code",
      "execution_count": null,
      "metadata": {
        "id": "nchHwUl6f8LA"
      },
      "outputs": [],
      "source": [
        "\"\"\"\n",
        "String Formatting\n",
        "\"\"\"\n",
        "\n",
        "# Create a variable that contains the first 4 lines of your favorite song. Add a comment that includes the song title and artist **each on their own line**! Now print out this variable.\n",
        "\n",
        "favorite_song_lyrics = \"\"\"\n",
        "\"Blank Space\" by Taylor Swift\n",
        "Nice to meet you, where you been?\n",
        "I could show you incredible things\n",
        "Magic, madness, heaven, sin\n",
        "Saw you there and I thought\"\"\"\n",
        "\n",
        "print({favorite_song_lyrics})"
      ]
    },
    {
      "cell_type": "markdown",
      "metadata": {
        "id": "L-jsklVTf8LA"
      },
      "source": [
        "\n",
        "\n",
        "## TYPECASTING\n",
        "\n",
        "### P1.PY\n",
        "\n",
        "\n"
      ]
    },
    {
      "cell_type": "code",
      "execution_count": null,
      "metadata": {
        "id": "xVSWuji7f8LB"
      },
      "outputs": [],
      "source": [
        "\"\"\"\n",
        "Typcasting w. Integers & Floats\n",
        "\"\"\"\n",
        "\n",
        "# Convert these numbers into floats and back. Print out each result as well as its data type.\n",
        "\n",
        "five = 5\n",
        "zero = 0\n",
        "neg_8 = -8\n",
        "neg_22 = -22\n",
        "\n",
        "five = float(five)\n",
        "zero = float(zero)\n",
        "neg_8 = float(neg_8)\n",
        "neg_22 = float(neg_22)\n",
        "\n",
        "print(f'{five}: {type(five)}')\n",
        "print(f'{zero}: {type(zero)}')\n",
        "print(f'{neg_8}: {type(neg_8)}')\n",
        "print(f'{neg_22}: {type(neg_22)}')\n",
        "\n",
        "five = int(five)\n",
        "zero = int(zero)\n",
        "neg_8 = int(neg_8)\n",
        "neg_22 = int(neg_22)\n",
        "\n",
        "print(f'{five}: {type(five)}')\n",
        "print(f'{zero}: {type(zero)}')\n",
        "print(f'{neg_8}: {type(neg_8)}')\n",
        "print(f'{neg_22}: {type(neg_22)}')\n",
        "\n"
      ]
    },
    {
      "cell_type": "markdown",
      "metadata": {
        "id": "dAPUC3X0f8LD"
      },
      "source": [
        "\n",
        "\n",
        "### P2.PY\n",
        "\n",
        "\n"
      ]
    },
    {
      "cell_type": "code",
      "execution_count": null,
      "metadata": {
        "id": "9kVa9SFlf8LD"
      },
      "outputs": [],
      "source": [
        "\"\"\"\n",
        "Typcasting w. Strings\n",
        "\"\"\"\n",
        "\n",
        "# Convert these variables into strings and then back to their original data types.\n",
        "#Print out each result as well as its data type. What do you notice about the last one?\n",
        "\n",
        "five = 5\n",
        "zero = 0\n",
        "neg_8 = -8\n",
        "T = True\n",
        "F = False\n",
        "\n",
        "five = str(five)\n",
        "zero = str(zero)\n",
        "neg_8 = str(neg_8)\n",
        "T = str(T)\n",
        "F = str (F)\n",
        "\n",
        "print(f'{five}: Variable \"five\" is now a {type(five)}')\n",
        "print(f'{zero}: Variable \"zero\" is now a {type(zero)}')\n",
        "print(f'{neg_8}: Variable \"neg_8\" is now a {type(neg_8)}')\n",
        "print(f'{T}: Variable \"T\" is now a {type(T)}')\n",
        "print(f'{F}: Variable \"F\" is now a {type(F)}')\n",
        "\n",
        "five = int(five)\n",
        "zero = int(zero)\n",
        "neg_8 = int(neg_8)\n",
        "T = bool(T)\n",
        "F = bool(F)\n",
        "\n",
        "print(f'{five}: Variable \"five\" is now converted back a {type(five)}')\n",
        "print(f'{zero}: Variable \"zero\" is now converted back to a {type(zero)}')\n",
        "print(f'{neg_8}: Variable \"neg_8\" is now converted back to a {type(neg_8)}.')\n",
        "print(f'{T}: Variable \"T\" is now converted back to a {type(T)}')\n",
        "print(f'{F}: Variable \"F\" is now converted back to a {type(F)}. But it displays \"True\" because only empty values are interpreted as \"False\" in boolean.') #Question: does 0 count as an \"empty value\"?\n",
        "\n"
      ]
    },
    {
      "cell_type": "markdown",
      "metadata": {
        "id": "AGyGTg88f8LD"
      },
      "source": [
        "\n",
        "\n",
        "### P3.PY\n",
        "\n",
        "\n"
      ]
    },
    {
      "cell_type": "code",
      "execution_count": null,
      "metadata": {
        "id": "BmZ2VSm-f8LD"
      },
      "outputs": [],
      "source": [
        "\"\"\"\n",
        "Booleans I - Typecasting w. Numbers\n",
        "\"\"\"\n",
        "\n",
        "# A) Use typecasting to turn these variables into boolean values. Print the result and the datatype of the result.\n",
        "\n",
        "one = 1\n",
        "zero = 0\n",
        "\n",
        "one = bool(one)\n",
        "zero = bool(zero)\n",
        "\n",
        "print(f'{one}: {type(one)}')\n",
        "print(f'{zero}: {type(zero)}')\n",
        "\n",
        "# B) Use typecasting to turn the resultant variables from part A into floats. Print the result and the datatype of the result.\n",
        "\n",
        "one = float(one)\n",
        "zero= float(zero)\n",
        "\n",
        "print(f'{one}: {type(one)}')\n",
        "print(f'{zero}: {type(zero)}')\n",
        "\n",
        "# C) Use typecasting to turn the resultant variables from part B back into booleans. Print the result and the datatype of the result.\n",
        "\n",
        "one = bool(one)\n",
        "zero = bool(zero)\n",
        "\n",
        "print(f'{one}: {type(one)}')\n",
        "print(f'{zero}: {type(zero)}')\n",
        "\n",
        "# C) Use typecasting to turn the resultant variables from part C into integers. Print the result and the datatype of the result.\n",
        "\n",
        "one = int(one)\n",
        "zero = int(zero)\n",
        "print(f'{one}: {type(one)}')\n",
        "print(f'{zero}: {type(zero)}')\n",
        "\n",
        "# E) Use typecasting to turn the variable below into a boolean value. Print the result and the datatype of the result.\n",
        "\n",
        "ten = 10\n",
        "ten = bool(ten)\n",
        "print(f'{ten}: {type(ten)}')\n"
      ]
    },
    {
      "cell_type": "markdown",
      "metadata": {
        "id": "-lbu6P8sf8LD"
      },
      "source": [
        "\n",
        "\n",
        "### P4.PY\n",
        "\n",
        "\n"
      ]
    },
    {
      "cell_type": "code",
      "execution_count": null,
      "metadata": {
        "id": "Oyx4iBgvf8LD"
      },
      "outputs": [],
      "source": [
        "\"\"\"\n",
        "Booleans II - Typecasting w. Strings\n",
        "\"\"\"\n",
        "\n",
        "# A) Use typecasting to turn these variables into boolean values. Print the result and the datatype of the result.\n",
        "\n",
        "one = 1\n",
        "zero = 0\n",
        "bool_true = True\n",
        "bool_false = False\n",
        "\n",
        "one = bool(one)\n",
        "zero = bool(zero)\n",
        "bool_true = bool(True)\n",
        "bool_false = bool(False)\n",
        "\n",
        "print(f'{one}: {type(one)}') #prints True\n",
        "print(f'{zero}: {type(zero)}') #prints False\n",
        "print(f'{bool_true}: {type(bool_true)}') #prints true\n",
        "print(f'{bool_false}: {type(bool_false)}') #prints false\n",
        "\n",
        "# B) Use typecasting to turn the latest values for variables 'one' and 'zero' back into integers. Print the result and the datatype of the result.\n",
        "\n",
        "one = int(one)\n",
        "zero = int(zero)\n",
        "bool_true = int(bool_true)\n",
        "bool_false = int(bool_false)\n",
        "\n",
        "print(f'{one}: {type(one)}')\n",
        "print(f'{zero}: {type(zero)}')\n",
        "print(f'{bool_true}: {type(bool_true)}')\n",
        "print(f'{bool_false}: {type(bool_false)}')\n",
        "\n",
        "# C) Use typecasting to turn the latest values for variables 'bool_true' and 'bool_false' back into boolean values. Print the result and the datatype of the result.\n",
        "\n",
        "bool_true = bool(bool_true)\n",
        "bool_false = bool(bool_false)\n",
        "\n",
        "print(f'{bool_true}: {type(bool_true)}')\n",
        "print(f'{bool_false}: {type(bool_false)}')\n"
      ]
    },
    {
      "cell_type": "markdown",
      "metadata": {
        "id": "fB8kF_d5f8LE"
      },
      "source": [
        "\n",
        "\n",
        "## OPERATORS\n",
        "\n",
        "### P1.PY\n",
        "\n",
        "\n"
      ]
    },
    {
      "cell_type": "code",
      "execution_count": null,
      "metadata": {
        "id": "971XPs1Rf8LE"
      },
      "outputs": [],
      "source": [
        "\"\"\"\n",
        "Integer & Float Operators\n",
        "\"\"\"\n",
        "\n",
        "# Complete the specified math operations. Do the next operation on the result from the previous operation.\n",
        "\n",
        "orig_var = 100\n",
        "\n",
        "# Add 50\n",
        "second_value = orig_var + 50\n",
        "\n",
        "\n",
        "# Subtract 90\n",
        "third_value = second_value - 90\n",
        "\n",
        "# Multiply 10\n",
        "fourth_value = third_value * 10\n",
        "\n",
        "# Divide 150\n",
        "fifth_value = fourth_value / 150\n",
        "\n",
        "# Modulus 3\n",
        "sixth_value = fifth_value % 3\n",
        "\n",
        "#checking\n",
        "print(orig_var)\n",
        "print(second_value)\n",
        "print(third_value)\n",
        "print(fourth_value)\n",
        "print(fifth_value)\n",
        "print(sixth_value)\n",
        "\n"
      ]
    },
    {
      "cell_type": "markdown",
      "metadata": {
        "id": "6QML05I9f8LE"
      },
      "source": [
        "\n",
        "\n",
        "### P2.PY\n",
        "\n",
        "\n"
      ]
    },
    {
      "cell_type": "code",
      "execution_count": null,
      "metadata": {
        "id": "NNlCIWhHf8LE"
      },
      "outputs": [],
      "source": [
        "\"\"\"\n",
        "String Operators\n",
        "\"\"\"\n",
        "\n",
        "# Create two variables, each of which is half of a compound sentence. Do NOT add any punctuation up front. Add the two variables together, and print the result.\n",
        "## Example compound sentence: \"I'll go to the beach today, and I'll go snorkeling.\"\n",
        "\n",
        "variable_1 = \"I'll go to the beach today\"\n",
        "variable_2 = \"and I'll go snorkeling.\"\n",
        "\n",
        "print(variable_1 + \", \" + variable_2)\n"
      ]
    },
    {
      "cell_type": "markdown",
      "metadata": {
        "id": "RCD6PAF1f8LE"
      },
      "source": [
        "\n",
        "\n",
        "### P3.PY\n",
        "\n",
        "\n"
      ]
    },
    {
      "cell_type": "code",
      "execution_count": null,
      "metadata": {
        "id": "CTiQKI48f8LE"
      },
      "outputs": [],
      "source": [
        "\"\"\"\n",
        "Addition I - Numbers & Strings\n",
        "\"\"\"\n",
        "\n",
        "# Add the below sets of variables together.\n",
        "\n",
        "# A)\n",
        "a = 0\n",
        "b = 2\n",
        "\n",
        "x = a + b # computes integer 2\n",
        "\n",
        "# B)\n",
        "c = '0'\n",
        "d = '2' # computes string \"02\"\n",
        "\n",
        "y = c + d\n",
        "\n",
        "# C)\n",
        "e = \"0\"\n",
        "f = 2\n",
        "\n",
        "z = e + f #produces syntax error because you cannot add a string to an integer\n",
        "z = int(e) + f #computes integer 2"
      ]
    },
    {
      "cell_type": "markdown",
      "metadata": {
        "id": "Do_UE3CRf8LE"
      },
      "source": [
        "\n",
        "\n",
        "### P4.PY\n",
        "\n",
        "\n"
      ]
    },
    {
      "cell_type": "code",
      "execution_count": null,
      "metadata": {
        "id": "64k-tl-Wf8LE"
      },
      "outputs": [],
      "source": [
        "\"\"\"\n",
        "Addition II - Booleans\n",
        "\"\"\"\n",
        "\n",
        "# Add the below sets of variables together.\n",
        "\n",
        "# A)\n",
        "a = True\n",
        "b = True\n",
        "\n",
        "x = a + b # integer 2\n",
        "\n",
        "# B)\n",
        "c = False\n",
        "d = False\n",
        "\n",
        "y = c + d #integer 0\n",
        "\n",
        "# C)\n",
        "e = True\n",
        "f = False\n",
        "\n",
        "z = e + f # integer 1"
      ]
    },
    {
      "cell_type": "markdown",
      "metadata": {
        "id": "3Vz04ce3f8LF"
      },
      "source": [
        "\n"
      ]
    }
  ],
  "metadata": {
    "colab": {
      "provenance": []
    },
    "language_info": {
      "name": "python"
    },
    "kernelspec": {
      "name": "python3",
      "display_name": "Python 3"
    }
  },
  "nbformat": 4,
  "nbformat_minor": 0
}