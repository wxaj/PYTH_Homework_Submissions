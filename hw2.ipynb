{
  "cells": [
    {
      "cell_type": "markdown",
      "metadata": {
        "id": "LKxAwpXFVDyV"
      },
      "source": [
        "<a href=\"https://colab.research.google.com/github/mottaquikarim/PYTH2/blob/master/src/PSETS/nb/hw2.ipynb\" target=\"_parent\"><img src=\"https://colab.research.google.com/assets/colab-badge.svg\" alt=\"Open In Colab\"/></a>"
      ]
    },
    {
      "cell_type": "markdown",
      "metadata": {
        "id": "rbQCSY8NVDyV"
      },
      "source": [
        "#  LISTS\n",
        "\n",
        "## LIST_MANIPULATION\n",
        "\n",
        "### P1.PY Phone Numbers\n"
      ]
    },
    {
      "cell_type": "code",
      "execution_count": 7,
      "metadata": {
        "id": "jQBbj1vfVDyV",
        "colab": {
          "base_uri": "https://localhost:8080/"
        },
        "outputId": "7fe22083-7d83-4173-9aa4-62d69015d411"
      },
      "outputs": [
        {
          "output_type": "stream",
          "name": "stdout",
          "text": [
            "[1, 192, 168, 143]\n"
          ]
        }
      ],
      "source": [
        "parsed_number = []\n",
        "cell = '1.192.168.0143' #a cell phone number in a string\n",
        "str_cell = cell.split('.') #splits the string into list str_cell ['1', '192', '168','0143']\n",
        "for num in str_cell: #assigns variable num to each string element in list str_cell\n",
        "  parsed_number.append(int(num)) #each element in list str_cell is converted into an integer, and added into list parsed_number\n",
        "print(parsed_number)"
      ]
    },
    {
      "cell_type": "markdown",
      "metadata": {
        "id": "QJRCrQ8kVDyW"
      },
      "source": [
        "\n",
        "\n",
        "### P2.PY Basic Math Ops\n",
        "\n",
        "\n"
      ]
    },
    {
      "cell_type": "code",
      "execution_count": null,
      "metadata": {
        "id": "HVeexKWoVDyX"
      },
      "outputs": [],
      "source": [
        "\"\"\"\n",
        "Basic Math Ops\n",
        "\"\"\"\n",
        "\n",
        "# Given the list below, assign the correct values to the variables below.\n",
        "  # my_sum =\n",
        "  # my_min =\n",
        "  # my_max =\n",
        "  # my_range =\n",
        "  # my_mean =\n",
        "\n",
        "# Once you finish, print out each value **on its own line** in this format: \"my_median = \" etc.\n",
        "\n",
        "nums = [2, 19, 20, 12, 6, 24, 8, 30, 28, 25]\n",
        "my_sum = sum(nums)\n",
        "my_min = min(nums)\n",
        "my_max = max(nums)\n",
        "my_range = my_max - my_min\n",
        "my_mean = sum(nums)/len(nums)\n",
        "\n",
        "print(f'my_sum = {my_sum}')\n",
        "print(f'my_min = {my_min}')\n",
        "print(f'my_max = {my_max}')\n",
        "print(f'my_range = {my_range}')\n",
        "print(f'my_mean = {my_mean}')"
      ]
    },
    {
      "cell_type": "markdown",
      "metadata": {
        "id": "XOfVeyGhVDyX"
      },
      "source": [
        "\n",
        "\n",
        "### P3.PY Merge Lists with Duplicates\n",
        "\n"
      ]
    },
    {
      "cell_type": "code",
      "execution_count": null,
      "metadata": {
        "id": "mLeM0UmMVDyX"
      },
      "outputs": [],
      "source": [
        "\"\"\"\n",
        "Merge Lists with Duplicates\n",
        "\"\"\"\n",
        "\n",
        "# Use the two lists below to solve this problem. Print out the result from each section as you go along.\n",
        "\n",
        "list1, list2 = [2, 8, 6], [10, 4, 12]\n",
        "\n",
        "\n",
        "# A) Add another instance of each item in list1 to list1 again and assign the results to list3.\n",
        "list3 = list1*2\n",
        "print(list3)\n",
        "\n",
        "# B) Combine the two given lists and assign them to list4.\n",
        "list4 = list1 + list2\n",
        "print(list4) #list4 = [2, 8, 6, 10, 4, 12]\n",
        "\n",
        "# C) Replace the first 3 items in list 3 with the numbers 13, 16, 9.\n",
        "list3[:2] = [13, 16, 9]\n",
        "print(list3) #list3 = [13, 16, 9, 2, 8, 6]\n",
        "\n",
        "# D) Merge list3 and list4 to create a list containing no duplicates and store this in list5.\n",
        "\n",
        "list5 = [] #first set list5 to an empty list\n",
        "list5.append(list3) #then I appended list 3\n",
        "for num in list4: #to avoid duplicates, then I created a for loop and only appended elements in list 4 that were not in list 3\n",
        "  if num not in list3:\n",
        "    list5.append(num)\n",
        "print(list5)\n",
        "\n",
        "# Take a look at your printed statements to see the evolution of your lists with each step of this problem.\n"
      ]
    },
    {
      "cell_type": "markdown",
      "metadata": {
        "id": "5meUhLnJVDyX"
      },
      "source": [
        "\n",
        "\n",
        "### P4.PY Spotify Playlists - Sorting\n"
      ]
    },
    {
      "cell_type": "code",
      "execution_count": null,
      "metadata": {
        "id": "KV5_Rq7TVDyY"
      },
      "outputs": [],
      "source": [
        "\"\"\"\n",
        "Spotify Playlists - Sorting\n",
        "\"\"\"\n",
        "\n",
        "# You work for Spotify and are creating a feature for users to alphabetize their playlists by song title. Below is a list of titles from a sample playlist.\n",
        "\n",
        "playlist_titles = ['Tiny Dancer', 'At Last', 'Fortunate Son',\n",
        "'Hey Jude', 'Isn\\'t She Lovely', 'Just the Way You Are', 'I\\'m Yours',\n",
        "'Vienna', 'Roxanne', 'Dancing in the Moonlight']\n",
        "\n",
        "# Alphabetize these songs and print the result.\n",
        "\n",
        "alphabetical = sorted(playlist_titles)\n",
        "print(alphabetical)\n",
        "\n",
        "# Now do the reverse.\n",
        "reverse_alphabetical = sorted(playlist_titles, reverse = True)\n",
        "print(reverse_alphabetical)"
      ]
    },
    {
      "cell_type": "markdown",
      "metadata": {
        "id": "ZKCLIKnUVDyY"
      },
      "source": [
        "\n",
        "\n",
        "### P5.PY Cool Runnings!\n"
      ]
    },
    {
      "cell_type": "code",
      "execution_count": 34,
      "metadata": {
        "id": "f_XLsLqTVDyY",
        "colab": {
          "base_uri": "https://localhost:8080/"
        },
        "outputId": "6c6ee5db-c08d-4ca2-90c7-660dee702630"
      },
      "outputs": [
        {
          "output_type": "stream",
          "name": "stdout",
          "text": [
            "Feel the rhythm. Feel the rhyme. Get on up. It's YOLO time!\n"
          ]
        }
      ],
      "source": [
        "\"\"\"\n",
        "Cool Runnings!\n",
        "\"\"\"\n",
        "\n",
        "# Here's a quote from the movie 'Cool Runnings'. :)\n",
        "\n",
        "# Replace the word bobsled with \"YOLO\" and print the resultant list as 4 sentences (i.e. NOT a list), each on a new line.\n",
        "\n",
        "cool_runnings = [\n",
        "\t'Feel', 'the', 'rhythm.',\n",
        "\t'Feel', 'the', 'rhyme.',\n",
        "\t'Get', 'on', 'up.',\n",
        "\t'It\\'s', 'bobsled', 'time!'\n",
        "]\n",
        "\n",
        "range_cool_runnings = range(len(cool_runnings))\n",
        "\n",
        "for i in range_cool_runnings:\n",
        "\tif cool_runnings[i] in \"bobsled\":\n",
        "\t\tcool_runnings[i] = \"YOLO\"\n",
        "\n",
        "quote = (' ').join(cool_runnings)\n",
        "\n",
        "print(quote)"
      ]
    },
    {
      "cell_type": "markdown",
      "metadata": {
        "id": "rdpIEwuxVDyY"
      },
      "source": [
        "\n",
        "\n",
        "## LIST_CHALLENGES\n",
        "\n",
        "### P1.PY CHALLENGE - Extensions\n"
      ]
    },
    {
      "cell_type": "code",
      "execution_count": 1,
      "metadata": {
        "id": "4qGakcHnVDyZ",
        "colab": {
          "base_uri": "https://localhost:8080/"
        },
        "outputId": "631a94b2-cb5a-454f-e33b-84b7fd413737"
      },
      "outputs": [
        {
          "output_type": "stream",
          "name": "stdout",
          "text": [
            "[6, 12, 9, 4, 10, 1, 15, 3, 6, 2, 1, 8]\n"
          ]
        }
      ],
      "source": [
        "\"\"\"\n",
        "CHALLENGE - Extensions\n",
        "\"\"\"\n",
        "\n",
        "# ** Challenge** Add each element of the tuple1 to list1 *individually* and print the result.\n",
        "\n",
        "list1 = [6, 12, 9, 4, 10, 1]\n",
        "tuple1 = [(15,3), (6,2), (1, 8)]\n",
        "\n",
        "for x,y in tuple1:\n",
        "  list1.append(x)\n",
        "  list1.append(y)\n",
        "print(list1)\n"
      ]
    },
    {
      "cell_type": "markdown",
      "metadata": {
        "id": "B2TKmZB_VDyZ"
      },
      "source": [
        "\n",
        "\n",
        "### P2.PY CHALLENGE - Core Statistics Calculations\n"
      ]
    },
    {
      "cell_type": "code",
      "execution_count": 6,
      "metadata": {
        "id": "5Hjjxs2DVDyZ",
        "colab": {
          "base_uri": "https://localhost:8080/"
        },
        "outputId": "01e70d57-21ed-407d-d3e5-650d0805b477"
      },
      "outputs": [
        {
          "output_type": "stream",
          "name": "stdout",
          "text": [
            "my_median = 19.5\n",
            "my_mode = 6\n",
            "my_variance = 84.17777777777778\n",
            "my_sd = 9.174844836714012\n"
          ]
        }
      ],
      "source": [
        "\"\"\"\n",
        "CHALLENGE - Core Statistics Calculations\n",
        "\"\"\"\n",
        "\n",
        "# Given the sample below, find the mean, median, mode, variance, and standard deviation of this sample. Print them out separately, but in the same format as before.\n",
        "\t# my_median =\n",
        "\t# my_mode =\n",
        "\t# my_variance =\n",
        "\t# my_sd =\n",
        "\n",
        "import statistics\n",
        "sample = [6, 19, 20, 12, 6, 24, 8, 30, 28, 25]\n",
        "\n",
        "my_median = statistics.median(sample)\n",
        "my_mode = statistics.mode(sample)\n",
        "my_variance = statistics.variance(sample)\n",
        "my_sd = statistics.stdev(sample)\n",
        "\n",
        "print(f'my_median = {my_median}')\n",
        "print(f'my_mode = {my_mode}')\n",
        "print(f'my_variance = {my_variance}')\n",
        "print(f'my_sd = {my_sd}')\n",
        "\n",
        "# Once you finish, print out each value **on its own line** in this format: \"median = \" etc.\n"
      ]
    },
    {
      "cell_type": "markdown",
      "metadata": {
        "id": "ld0yZAqoVDyZ"
      },
      "source": [
        "\n",
        "\n",
        "#  DICTS\n",
        "\n",
        "## DICT_OPS\n",
        "\n",
        "### P1.PY Basic Dict Concepts\n"
      ]
    },
    {
      "cell_type": "code",
      "execution_count": 11,
      "metadata": {
        "id": "Yq3aXGtwVDyZ",
        "colab": {
          "base_uri": "https://localhost:8080/"
        },
        "outputId": "93b84d80-ad9a-43d0-aeb1-dea093de7aa8"
      },
      "outputs": [
        {
          "output_type": "stream",
          "name": "stdout",
          "text": [
            "d2 now has 5 people.\n",
            "The first names are dict_keys(['Anthony', 'Ping', 'Enrique', 'Arjun', 'Allison']).\n",
            "('Allison', 'Zhang') was removed from d2.\n",
            "d2 was updated again and is now {'Anthony': 'Paollelo', 'Ping': 'Qiao', 'Enrique': 'Alvarez', 'Arjun': 'Dhir', 'Allison': 'Zhang'}\n"
          ]
        }
      ],
      "source": [
        "\"\"\"\n",
        "Basic Dict Concepts\n",
        "\"\"\"\n",
        "\n",
        "# A) Declare an empty dict as d1.\n",
        "\n",
        "d1 = dict({})\n",
        "\n",
        "# B) Create a dict called d2 containing the first and last names below:\n",
        "# Anthony Paollelo, Ping Qiao, Enrique Alvarez, Arjun Dhir\n",
        "\n",
        "d2 = dict({\n",
        "    'Anthony':'Paollelo',\n",
        "    'Ping': 'Qiao',\n",
        "    'Enrique':'Alvarez',\n",
        "    'Arjun':'Dhir'\n",
        "    })\n",
        "\n",
        "# C) Add Allison Zhang person to d2.\n",
        "\n",
        "d2.update({'Allison':'Zhang'})\n",
        "\n",
        "# D) How many people are now in d2? Print out all their *first* names in the vars below.\n",
        "\n",
        "### num_people =\n",
        "num_people = len(d2)\n",
        "print(f'd2 now has {num_people} people.')\n",
        "\n",
        "### first_names =\n",
        "first_names = d2.keys()\n",
        "print(f'The first names are {first_names}.')\n",
        "\n",
        "# E) Delete a random person from d2 and print his/her name in the var below.\n",
        "\n",
        "### x =\n",
        "x = d2.popitem()\n",
        "print(f'{x} was removed from d2.')\n",
        "\n",
        "# F) Re-add the name you deleted to the end of d2.\n",
        "d2.update({x})\n",
        "print(f'd2 was updated again and is now {d2}')\n",
        "\n"
      ]
    },
    {
      "cell_type": "markdown",
      "metadata": {
        "id": "IXvs5pIGVDyZ"
      },
      "source": [
        "\n",
        "\n",
        "### P2.PY Merging Dicts\n",
        "\n",
        "\n"
      ]
    },
    {
      "cell_type": "code",
      "execution_count": 12,
      "metadata": {
        "id": "74JrG2IAVDyZ",
        "colab": {
          "base_uri": "https://localhost:8080/"
        },
        "outputId": "05e84544-fdfd-42a8-b3e9-495d2d46f63d"
      },
      "outputs": [
        {
          "output_type": "stream",
          "name": "stdout",
          "text": [
            "{'a': 100, 'b': 200, 'c': 300, 'd': 400, 'e': 500}\n"
          ]
        }
      ],
      "source": [
        "\"\"\"\n",
        "Merging Dicts\n",
        "\"\"\"\n",
        "\n",
        "# Merge these two dicts without creating a new one.\n",
        "\n",
        "d1 = {'a': 100, 'b': 200}\n",
        "d2 = {'c': 300, 'd': 400, 'e': 500}\n",
        "\n",
        "d1.update(d2)\n",
        "print(d1)"
      ]
    },
    {
      "cell_type": "markdown",
      "metadata": {
        "id": "pOOIv6O6VDya"
      },
      "source": [
        "\n",
        "\n",
        "### P3.PY Math with Girl Scout Cookies\n",
        "\n",
        "\n"
      ]
    },
    {
      "cell_type": "code",
      "execution_count": 21,
      "metadata": {
        "id": "YYWlno9fVDya",
        "colab": {
          "base_uri": "https://localhost:8080/"
        },
        "outputId": "dfc9b04e-ac5e-4d3f-bd6b-48aa08afa75a"
      },
      "outputs": [
        {
          "output_type": "stream",
          "name": "stdout",
          "text": [
            "Wendy:25\n",
            "Connie:26\n",
            "Francesca:42\n",
            "tagalongs:33\n",
            "thin mints:30\n",
            "samoas:30\n",
            "tagalongs:11.0\n",
            "thin mints: 10.0\n",
            "samoas:10.0\n",
            "This year we sold 93 boxes!\n"
          ]
        }
      ],
      "source": [
        "\"\"\"\n",
        "Math with Girl Scout Cookies\n",
        "\"\"\"\n",
        "\n",
        "# Print out the number of boxes of girl scout cookies that each girl in the troop sold in the below format:\n",
        "\t# Wendy: _____\n",
        "\t# Connie: _____\n",
        "\t# Francesca: _____\n",
        "\n",
        "Wendy = {'tagalongs': 5, 'thin mints': 12, 'samoas': 8}\n",
        "Connie = {'tagalongs': 10, 'thin mints': 4, 'samoas': 12}\n",
        "Francesca = {'tagalongs': 18, 'thin mints': 14, 'samoas': 10}\n",
        "\n",
        "salesW = sum(Wendy.values())\n",
        "salesC = sum(Connie.values())\n",
        "salesF = sum(Francesca.values())\n",
        "\n",
        "print(f'Wendy:{salesW}')\n",
        "print(f'Connie:{salesC}')\n",
        "print(f'Francesca:{salesF}')\n",
        "\n",
        "# For each type of girl scout cookie, print out the total number of boxes sold in the below format:\n",
        "\t# tagalongs: _____\n",
        "\t# thin mints: _____\n",
        "\t# samoas: _____\n",
        "\n",
        "total_tagalongs = Wendy.get('tagalongs',[]) + Connie.get('tagalongs',[]) + Francesca.get('tagalongs',[])\n",
        "total_thinmints = Wendy.get('thin mints', []) + Connie.get('thin mints', []) + Francesca.get('thin mints', [])\n",
        "total_samoas = Wendy.get('samoas', []) + Connie.get('samoas', []) + Francesca.get('samoas', [])\n",
        "\n",
        "print(f'tagalongs:{total_tagalongs}')\n",
        "print(f'thin mints:{total_thinmints}')\n",
        "print(f'samoas:{total_samoas}')\n",
        "\n",
        "# For each type of girl scout cookie, print out the average number of boxes sold in the below format:\n",
        "\t# tagalongs: _____\n",
        "\t# thin mints: _____\n",
        "\t# samoas: _____\n",
        "\n",
        "avg_tagalongs = total_tagalongs/3 #Is there a way to for the program to determine how many dictionaires were considered, instead of manually inserting this integer?\n",
        "avg_thinmints = total_thinmints/3\n",
        "avg_samoas =total_samoas/3\n",
        "\n",
        "print(f'tagalongs:{avg_tagalongs}')\n",
        "print(f'thin mints: {avg_thinmints}')\n",
        "print(f'samoas:{avg_samoas}')\n",
        "\n",
        "# Print out total the number of boxes of cookies the girls sold collectively as follows:\n",
        "\t# \"This year we sold ______ boxes!\"\n",
        "\n",
        "boxes_sold = salesW + salesC + salesF\n",
        "print(f'This year we sold {boxes_sold} boxes!')"
      ]
    },
    {
      "cell_type": "markdown",
      "metadata": {
        "id": "IyRdd5TOVDya"
      },
      "source": [
        "\n",
        "\n",
        "### P4.PY Inverting Keys & Values\n",
        "\n",
        "\n"
      ]
    },
    {
      "cell_type": "code",
      "execution_count": 24,
      "metadata": {
        "id": "fQ8nG_cdVDya",
        "colab": {
          "base_uri": "https://localhost:8080/"
        },
        "outputId": "e1d2fda7-4c8c-47a7-d750-ef5e1f721011"
      },
      "outputs": [
        {
          "output_type": "stream",
          "name": "stdout",
          "text": [
            "{'v1': 'k3', 'v2': 'k2'}\n"
          ]
        }
      ],
      "source": [
        "\"\"\"\n",
        "Inverting Keys & Values\n",
        "\"\"\"\n",
        "\n",
        "# Invert dict1 - make the current keys into values and the current values into keys.\n",
        "\n",
        "\n",
        "dict1 = { \"k1\" : \"v1\", \"k2\" : \"v2\", \"k3\" : \"v1\" }\n",
        "inverted_dict = dict({})\n",
        "\n",
        "for k,v in dict1.items():\n",
        "  inverted_dict[v]=k\n",
        "\n",
        "print(inverted_dict)\n"
      ]
    },
    {
      "cell_type": "markdown",
      "metadata": {
        "id": "NyfVSzLCVDya"
      },
      "source": [
        "\n",
        "\n",
        "### P5.PY Lists to Dicts\n",
        "\n",
        "\n"
      ]
    },
    {
      "cell_type": "code",
      "execution_count": 2,
      "metadata": {
        "id": "7D7mHhxjVDya",
        "colab": {
          "base_uri": "https://localhost:8080/"
        },
        "outputId": "aa2dd4ad-5df3-462d-b39d-f63e07e92ac7"
      },
      "outputs": [
        {
          "output_type": "stream",
          "name": "stdout",
          "text": [
            "{'Taq': [98, 89, 92, 94], 'Zola': [86, 45, 98, 100], 'Valerie': [76, 79, 80, 82]}\n"
          ]
        }
      ],
      "source": [
        "\"\"\"\n",
        "Lists to Dicts\n",
        "\"\"\"\n",
        "\n",
        "# Turn these two lists into a dict called grades.\n",
        "\n",
        "names = ['Taq', 'Zola', 'Valerie', 'Valerie']\n",
        "scores = [[98, 89, 92, 94], [86, 45, 98, 100], [100, 100, 100, 100], [76, 79, 80, 82]]\n",
        "\n",
        "\n",
        "\n",
        "grades = dict(zip(names, scores))\n",
        "print(grades)"
      ]
    },
    {
      "cell_type": "markdown",
      "metadata": {
        "id": "cBAygpomVDya"
      },
      "source": [
        "\n",
        "\n",
        "## SEARCH_VALIDATION\n",
        "\n",
        "### P1.PY Login Credentials\n",
        "\n",
        "\n"
      ]
    },
    {
      "cell_type": "code",
      "execution_count": 11,
      "metadata": {
        "id": "K9ywxDZhVDya",
        "colab": {
          "base_uri": "https://localhost:8080/"
        },
        "outputId": "74cda9ff-652a-4894-9017-89f7c5470563"
      },
      "outputs": [
        {
          "output_type": "stream",
          "name": "stdout",
          "text": [
            "[('person@email.com', 'PassWord'), ('someone@email.com', 'hiitsme'), ('me@email.com', 'myPassword'), ('anyone@email.com', 'IMawesome'), ('guy@email.com', 'pa$$wordz')]\n",
            "[('me@email.com', 'myPassword')]\n",
            "Successful login!\n"
          ]
        }
      ],
      "source": [
        "\"\"\"\n",
        "Login Credentials\n",
        "\"\"\"\n",
        "\n",
        "# Imagine you work for a movie streaming service. You're in charge of safeguarding user privacy by ensuring the login feature remains secure. For the sake of example only, below is the dict of user login info. Normally, you wouldn't have access to see this unencrypted of course!\n",
        "\n",
        "users = {\n",
        "\t'person@email.com': 'PassWord',\n",
        "\t'someone@email.com': 'hiitsme',\n",
        "\t'me@email.com': 'myPassword',\n",
        "\t'anyone@email.com': 'IMawesome',\n",
        "\t'guy@email.com': 'pa$$wordz'\n",
        "\t# etc\n",
        "}\n",
        "\n",
        "users_kv_pairs = list(users.items()) #output as kv pairs and conver to a list\n",
        "print(users_kv_pairs)\n",
        "\n",
        "# A user enters the below login info (email and password) for your app. Search your database of user logins to see if this account exists and if the password matches what you have on file. If the login credentials are correct, print \"Successful login!\". Otherwise, print \"The login info you entered does not match any of our records.\"\n",
        "\n",
        "current_user = { 'me@email.com': 'myPassword' }\n",
        "current_user_kv_pairs = list(current_user.items()) #convert current_user kv pair to a list\n",
        "print(current_user_kv_pairs)\n",
        "\n",
        "if current_user_kv_pairs[0] in users_kv_pairs:\n",
        "\tprint('Successful login!')\n",
        "else:\n",
        "\tprint('The login info you entered does not match any of our records.')\n",
        "\n",
        "\n",
        "\n",
        "\n"
      ]
    },
    {
      "cell_type": "markdown",
      "metadata": {
        "id": "ZczCjRP6VDya"
      },
      "source": [
        "\n",
        "\n",
        "## COUNTERS_CHALLENGE\n",
        "\n",
        "### P1.PY CHALLENGE - Word Frequency\n",
        "\n",
        "\n"
      ]
    },
    {
      "cell_type": "code",
      "execution_count": 13,
      "metadata": {
        "id": "ra0zEeWBVDya"
      },
      "outputs": [],
      "source": [
        "\"\"\"\n",
        "CHALLENGE - Word Frequency\n",
        "\"\"\"\n",
        "\n",
        "# Print out the number of words in this movie quote. Find and print out the most common word in the quote and how many times it was used.\n",
        "### Hint: You do not need a loop for this. Look up the Counter docs in python3.\n",
        "\n",
        "from collections import Counter\n",
        "\n",
        "princess_bride = [\n",
        "'Hello', 'my', 'name', 'is', 'Inigo', 'Montoya',\n",
        "'You', 'killed', 'my', 'father',\n",
        "'Prepare', 'to', 'die'\n",
        "]\n",
        "\n",
        "word_counts = Counter(princess_bride)\n",
        "most_common_word, count = word_counts.most_common(1)[0] # I got help for this answer. I will revisit this again later.\n",
        "\n",
        "### fave_word =\n",
        "\n",
        "# p.s. You might use this to help analyze the most common topic in comments or reviews from your users to help understand the best places to improve you product."
      ]
    },
    {
      "cell_type": "markdown",
      "metadata": {
        "id": "3URgzva7VDyb"
      },
      "source": [
        "\n",
        "\n",
        "### P2.PY CHALLENGE - Summing Dict Values\n",
        "\n",
        "\n"
      ]
    },
    {
      "cell_type": "code",
      "execution_count": null,
      "metadata": {
        "id": "M7kw0JWeVDyb"
      },
      "outputs": [],
      "source": [
        "\"\"\"\n",
        "CHALLENGE - Summing Dict Values\n",
        "\"\"\"\n",
        "\n",
        "# Two Kindergarten teachers poll their classes for what fruit they want to eat for snacktime tomorrow.\n",
        "# Only one of them is going shopping, so she needs to know how many of each fruit she needs to buy in total. Tally these up and assign them to the \"shopping_list\" dict.\n",
        "\n",
        "#I ran out of time for this question but would like to tackle it again at a later date.\n",
        "\n",
        "# Provided poll dictionaries\n",
        "poll1 = {'apples': 8, 'bananas': 12}\n",
        "poll2 = {'apples': 6, 'bananas': 6, 'clementines': 8}\n",
        "\n",
        "poll1_kv_pairs = poll1.items()\n",
        "poll2_kv_pairs = poll2.items()\n",
        "\n",
        "shopping_list = dict({})\n"
      ]
    },
    {
      "cell_type": "markdown",
      "metadata": {
        "id": "gFeE6l77VDyb"
      },
      "source": [
        "\n"
      ]
    }
  ],
  "metadata": {
    "colab": {
      "provenance": []
    },
    "language_info": {
      "name": "python"
    },
    "kernelspec": {
      "name": "python3",
      "display_name": "Python 3"
    }
  },
  "nbformat": 4,
  "nbformat_minor": 0
}
